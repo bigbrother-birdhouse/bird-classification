{
 "cells": [
  {
   "cell_type": "markdown",
   "metadata": {},
   "source": [
    "# WTB\n",
    "\n",
    "Automatic classification of birds for this project : http://www.cabane-oiseaux.org/"
   ]
  },
  {
   "cell_type": "markdown",
   "metadata": {},
   "source": [
    "## Data cooking\n",
    "First, prepare the data : we need a train dataset and a validation dataset.\n",
    "We use the Keras ImageDataGenerator that can build a training set from directories containing images.\n",
    "Each sub directory must contains a category of bird : Keras will associate each one to a category in the model."
   ]
  },
  {
   "cell_type": "code",
   "execution_count": 6,
   "metadata": {},
   "outputs": [],
   "source": [
    "IMG_ROWS = 240\n",
    "IMG_COLS = 240\n",
    "EPOCHS = 10\n",
    "BATCH_SIZE = 32\n",
    "NUM_OF_TRAIN_SAMPLES = 3000\n",
    "NUM_OF_TEST_SAMPLES = 600\n",
    "DIR_TRAIN = '/home/kvjw3322/Documents/Prez/WTB/data_train'\n",
    "DIR_VALID = '/home/kvjw3322/Documents/Prez/WTB/data_test'"
   ]
  },
  {
   "cell_type": "code",
   "execution_count": 7,
   "metadata": {},
   "outputs": [
    {
     "name": "stdout",
     "output_type": "stream",
     "text": [
      "Found 5894 images belonging to 6 classes.\n",
      "Found 847 images belonging to 6 classes.\n"
     ]
    }
   ],
   "source": [
    "from PIL import Image\n",
    "import keras\n",
    "from keras.preprocessing.image import ImageDataGenerator, load_img, img_to_array, array_to_img\n",
    "from keras import applications\n",
    "from keras.callbacks import ModelCheckpoint\n",
    "import os\n",
    "import numpy as np\n",
    "\n",
    "# Generator for train\n",
    "train_image_generator = ImageDataGenerator(preprocessing_function=keras.applications.vgg16.preprocess_input)\n",
    "train_iterator = train_image_generator.flow_from_directory(\n",
    "    DIR_TRAIN, # Root directory\n",
    "    target_size=(IMG_ROWS, IMG_COLS), # Images will be processed to this size\n",
    "    batch_size=BATCH_SIZE, # How many images are processed at the same time ?\n",
    "    class_mode='categorical') # Each subdir is a category\n",
    "\n",
    "# Generator for validation\n",
    "valid_image_generator = ImageDataGenerator()\n",
    "valid_iterator = valid_image_generator.flow_from_directory(\n",
    "    DIR_VALID,\n",
    "    target_size=(IMG_ROWS, IMG_COLS), # Images will be processed to this size\n",
    "    batch_size=BATCH_SIZE, # How many images are processed at the same time ?\n",
    "    class_mode='categorical')\n",
    "\n",
    "# Number of classes\n",
    "NUM_OF_CLASSES = len(train_iterator.class_indices)"
   ]
  },
  {
   "cell_type": "markdown",
   "metadata": {},
   "source": [
    "# Prepare human readable predictions"
   ]
  },
  {
   "cell_type": "code",
   "execution_count": 12,
   "metadata": {},
   "outputs": [],
   "source": [
    "# Map a prediction indice to a label\n",
    "mapper = { v:k for k,v in train_iterator.class_indices.items()}\n",
    "\n",
    "def get_human_prediction(model, input_picture_array):\n",
    "     return mapper.get([ idx[0] for idx, item in np.ndenumerate(model.predict(input_picture_array)[0]) if item == 1.0 ][0])"
   ]
  },
  {
   "cell_type": "code",
   "execution_count": 13,
   "metadata": {},
   "outputs": [],
   "source": [
    "# This Keras Callbak saves the best model according to the accuracy metric\n",
    "filepath=\"../models/bestmodel-{epoch:02d}-{val_acc:.2f}.hdf5\"\n",
    "checkpoint = ModelCheckpoint(filepath, monitor='val_acc', verbose=1, save_best_only=True, mode='max')"
   ]
  },
  {
   "cell_type": "markdown",
   "metadata": {},
   "source": [
    "# Fine Tuning\n",
    "\n",
    "> Note : network that relies on a pre-trained model, VGG16.\n"
   ]
  },
  {
   "cell_type": "code",
   "execution_count": 14,
   "metadata": {
    "scrolled": true
   },
   "outputs": [],
   "source": [
    "base_model = applications.VGG16(weights='imagenet', include_top=False, input_shape=(IMG_ROWS, IMG_COLS, 3))"
   ]
  },
  {
   "cell_type": "code",
   "execution_count": 15,
   "metadata": {},
   "outputs": [
    {
     "name": "stderr",
     "output_type": "stream",
     "text": [
      "/home/kvjw3322/.virtualenvs/p3.6/lib/python3.6/site-packages/ipykernel_launcher.py:14: UserWarning: Update your `Model` call to the Keras 2 API: `Model(inputs=Tensor(\"in..., outputs=Tensor(\"se...)`\n",
      "  \n"
     ]
    }
   ],
   "source": [
    "from keras.layers import Conv2D, Convolution2D, MaxPooling2D, Flatten, Dropout, Dense\n",
    "from keras.models import Model, Sequential\n",
    "from keras.optimizers import SGD\n",
    "\n",
    "model_ft_top = Sequential()\n",
    "model_ft_top.add(Flatten())\n",
    "model_ft_top.add(Dense(1024, activation=\"relu\"))\n",
    "model_ft_top.add(Dropout(0.5))\n",
    "model_ft_top.add(Dense(NUM_OF_CLASSES, activation=\"softmax\"))\n",
    "\n",
    "# The model must have weight initialized (compile ? load weight ?)\n",
    "# model_ft.load_weights()\n",
    "\n",
    "model_ft = Model(input=base_model.input, output=model_ft_top(base_model.output))\n",
    "\n",
    "# Freeze the 16th first layers\n",
    "for layer in model_ft.layers[:15]:\n",
    "    layer.trainable = False\n",
    "\n",
    "model_ft.compile(optimizer=SGD(lr=1e-4, momentum=0.9), loss='categorical_crossentropy', metrics=['accuracy'])"
   ]
  },
  {
   "cell_type": "code",
   "execution_count": null,
   "metadata": {},
   "outputs": [
    {
     "name": "stdout",
     "output_type": "stream",
     "text": [
      "Epoch 1/10\n",
      " 1/93 [..............................] - ETA: 12:52 - loss: 10.6917 - acc: 0.1562"
     ]
    }
   ],
   "source": [
    "model_ft.fit_generator(generator=train_iterator, \n",
    "                    steps_per_epoch=NUM_OF_TRAIN_SAMPLES // BATCH_SIZE,\n",
    "                    epochs=EPOCHS,\n",
    "                    validation_data=valid_iterator,\n",
    "                    validation_steps=NUM_OF_TEST_SAMPLES // BATCH_SIZE,\n",
    "                    callbacks=[checkpoint])"
   ]
  },
  {
   "cell_type": "markdown",
   "metadata": {},
   "source": [
    "## RNN : layer by layer\n",
    "\n",
    "> note : network built from scratch, without any pre-trained layer\n",
    "\n",
    "We build the RNN, adding layers one by one\n",
    "\n",
    "- Conv2D : The input_shape is 150,150 to match the images size. The last dimension is '3' because each pixel is represented by 3 values (RGB). For grayscale images, this parameter would have been '1' (one value to store the grey level). We choose to use 32 filters (or feature maps) : all the filters are appyed to the source image at the same time. The convolution layer \"learn\" the values of each filter (as synaptic coefficients are in a Dense hidden layer). The kernel_size is the matrix size of the filter\n",
    "- MaxPooling2D : The subsampling layer get the best value (max with maxpooling) of a set of x pixels. This set comes from a sub matrix of \"pool_size\""
   ]
  },
  {
   "cell_type": "code",
   "execution_count": 13,
   "metadata": {},
   "outputs": [],
   "source": [
    "from keras.layers import Conv2D, Convolution2D, MaxPooling2D, Flatten, Dropout, Dense\n",
    "from keras.models import Model, Sequential\n",
    "\n",
    "model = Sequential() \n",
    "model.add(Conv2D(filters=32, input_shape=(IMG_ROWS, IMG_COLS, 3), kernel_size=(5,5)))\n",
    "model.add(MaxPooling2D(pool_size=(2,2)))\n",
    "\n",
    "model.add(Dropout(0.25))\n",
    "\n",
    "# Transform the output matrix into a vector for the Dense layer\n",
    "model.add(Flatten())\n",
    "model.add(Dense(1024, activation=\"relu\"))\n",
    "model.add(Dense(NUM_OF_CLASSES, activation=\"softmax\"))"
   ]
  },
  {
   "cell_type": "markdown",
   "metadata": {},
   "source": [
    "## Let's learn !\n",
    "It's time to make our network learn : we compile it (as Keras ask us to), and run the learning from our data."
   ]
  },
  {
   "cell_type": "code",
   "execution_count": 36,
   "metadata": {},
   "outputs": [],
   "source": [
    "model.compile(optimizer='adam', loss='categorical_crossentropy', metrics=['accuracy'])\n",
    "model.fit_generator(generator=train_iterator, \n",
    "                    steps_per_epoch=NUM_OF_TRAIN_SAMPLES // BATCH_SIZE,\n",
    "                    epochs=EPOCHS,\n",
    "                    validation_data=valid_iterator,\n",
    "                    validation_steps=NUM_OF_TEST_SAMPLES // BATCH_SIZE,\n",
    "                    callbacks=[checkpoint])"
   ]
  },
  {
   "cell_type": "markdown",
   "metadata": {},
   "source": [
    "# Model unit validation\n",
    "Let's get a model prediction from a given picture"
   ]
  },
  {
   "cell_type": "code",
   "execution_count": 14,
   "metadata": {},
   "outputs": [],
   "source": [
    "# Load model from disk\n",
    "model.load_weights(\"/home/kvjw3322/Documents/Prez/WTB/data/bestmodel-25-0.55.hdf5\")"
   ]
  },
  {
   "cell_type": "code",
   "execution_count": 15,
   "metadata": {},
   "outputs": [
    {
     "data": {
      "text/plain": [
       "'rouge gorge'"
      ]
     },
     "execution_count": 15,
     "metadata": {},
     "output_type": "execute_result"
    }
   ],
   "source": [
    "picture_path = '/home/kvjw3322/Documents/Prez/WTB/images/train/mesange bleu/01-20160116_092159-00.jpg'\n",
    "#picture_path = '/home/kvjw3322/Documents/Prez/WTB/images/rouge gorge/01-20160116_094045-00.jpg'\n",
    "\n",
    "picture = Image.open(picture_path)\n",
    "picture = picture.resize(size=(150,150))\n",
    "picture_array = img_to_array(img=picture)\n",
    "picture_array = np.expand_dims(picture_array, axis=0)\n",
    "get_human_prediction(model, picture_array)"
   ]
  },
  {
   "cell_type": "code",
   "execution_count": 63,
   "metadata": {},
   "outputs": [],
   "source": [
    "from sklearn.metrics import confusion_matrix, classification_report"
   ]
  },
  {
   "cell_type": "code",
   "execution_count": 71,
   "metadata": {},
   "outputs": [],
   "source": [
    "# Y_pred = model.predict_generator(valid_iterator, NUM_OF_TEST_SAMPLES // BATCH_SIZE+1)\n",
    "# y_pred = np.argmax(Y_pred, axis=1)\n",
    "# print('Confusion Matrix')\n",
    "# print(confusion_matrix(valid_iterator.classes, y_pred))\n",
    "# print('Classification Report')\n",
    "# target_names = train_iterator.class_indices.keys()\n",
    "# print(classification_report(valid_iterator.classes, y_pred, target_names=target_names))"
   ]
  }
 ],
 "metadata": {
  "kernelspec": {
   "display_name": "Python 3",
   "language": "python",
   "name": "python3"
  },
  "language_info": {
   "codemirror_mode": {
    "name": "ipython",
    "version": 3
   },
   "file_extension": ".py",
   "mimetype": "text/x-python",
   "name": "python",
   "nbconvert_exporter": "python",
   "pygments_lexer": "ipython3",
   "version": "3.6.7"
  }
 },
 "nbformat": 4,
 "nbformat_minor": 2
}
