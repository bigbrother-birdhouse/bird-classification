{
 "cells": [
  {
   "cell_type": "markdown",
   "metadata": {},
   "source": [
    "# WTB\n",
    "\n",
    "Automatic classification of birds for this project : http://www.cabane-oiseaux.org/"
   ]
  },
  {
   "cell_type": "markdown",
   "metadata": {},
   "source": [
    "## Data cooking\n",
    "First, prepare the data : we need a train dataset and a validation dataset.\n",
    "We use the Keras ImageDataGenerator that can build a training set from directories containing images.\n",
    "Each sub directory must contains a category of bird : Keras will associate each one to a category in the model."
   ]
  },
  {
   "cell_type": "code",
   "execution_count": 58,
   "metadata": {},
   "outputs": [
    {
     "name": "stdout",
     "output_type": "stream",
     "text": [
      "Found 3032 images belonging to 6 classes.\n",
      "Found 3032 images belonging to 6 classes.\n"
     ]
    }
   ],
   "source": [
    "from PIL import Image\n",
    "import keras\n",
    "from keras.preprocessing.image import ImageDataGenerator, load_img, img_to_array, array_to_img\n",
    "import os\n",
    "import numpy as np\n",
    "\n",
    "# Directory that contains images : each subdirectory contains a category of bird\n",
    "DIR = '/home/kvjw3322/Documents/Prez/ML4Noobs/Notebooks/images'\n",
    "\n",
    "# Generator for train\n",
    "train_image_generator = ImageDataGenerator()\n",
    "train_iterator = train_image_generator.flow_from_directory(\n",
    "    DIR, # Root directory\n",
    "    target_size=(150, 150), # Images will be processed to this size\n",
    "    batch_size=32, # How many images are processed at the same time ?\n",
    "    class_mode='categorical') # Each subdir is a category\n",
    "\n",
    "# Generator for validation\n",
    "valid_image_generator = ImageDataGenerator()\n",
    "valid_iterator = valid_image_generator.flow_from_directory(DIR,\n",
    "    target_size=(150, 150),\n",
    "    batch_size=32,\n",
    "    class_mode='categorical')\n"
   ]
  },
  {
   "cell_type": "markdown",
   "metadata": {},
   "source": [
    "# Prepare human readable predictions"
   ]
  },
  {
   "cell_type": "code",
   "execution_count": 68,
   "metadata": {},
   "outputs": [],
   "source": [
    "# Map a prediction indice to a label\n",
    "mapper = { v:k for k,v in train_iterator.class_indices.items()}\n",
    "\n",
    "def get_human_prediction(model, input_picture_array):\n",
    "     return mapper.get([ idx[0] for idx, item in np.ndenumerate(model.predict(input_picture_array)[0]) if item == 1.0 ][0])"
   ]
  },
  {
   "cell_type": "markdown",
   "metadata": {},
   "source": [
    "## RNN : layer by layer\n",
    "We build the RNN, adding layers one by one"
   ]
  },
  {
   "cell_type": "code",
   "execution_count": 59,
   "metadata": {},
   "outputs": [],
   "source": [
    "from keras.layers import Conv2D, Convolution2D, MaxPooling2D, Flatten, Dropout, Dense\n",
    "from keras.models import Model, Sequential\n",
    "\n",
    "model = Sequential() \n",
    "\n",
    "# The input_shape is 150,150 to match the images size. The last dimension is '3' \n",
    "# because each pixel is represented by 3 values (RGB). \n",
    "# For grayscale images, this parameter would have been '1' (one value to store the grey level)\n",
    "# We choose to use 32 filters (or feature maps) : all the filters are appyed to the source image at the same time.\n",
    "# The convolution layer \"learn\" the values of each filter (as synaptic coefficients are in a Dense hidden layer).\n",
    "# The kernel_size is the matrix size of the filter\n",
    "model.add(Conv2D(filters=32, input_shape=(150, 150, 3), kernel_size=(5,5)))\n",
    "\n",
    "# The subsampling layer get the best value (max with maxpooling) of a set of x pixels. This set comes from a \n",
    "# sub matrix of \"pool_size\"\n",
    "model.add(MaxPooling2D(pool_size=(2,2)))\n",
    "\n",
    "model.add(Dropout(0.25))\n",
    "\n",
    "# Transform the output matrix into a vector for the Dense layer\n",
    "model.add(Flatten())\n",
    "\n",
    "model.add(Dense(1024, activation=\"relu\"))\n",
    "model.add(Dense(6, activation=\"softmax\"))"
   ]
  },
  {
   "cell_type": "markdown",
   "metadata": {},
   "source": [
    "## Let's learn !\n",
    "It's time to make our network learn : we compile it (as Keras ask us to), and run the learning from our data."
   ]
  },
  {
   "cell_type": "code",
   "execution_count": 61,
   "metadata": {},
   "outputs": [
    {
     "name": "stdout",
     "output_type": "stream",
     "text": [
      "Epoch 1/10\n",
      " - 42s - loss: 7.9074 - acc: 0.5094 - val_loss: 6.7998 - val_acc: 0.5781\n",
      "Epoch 2/10\n",
      " - 35s - loss: 8.2605 - acc: 0.4875 - val_loss: 7.8072 - val_acc: 0.5156\n",
      "Epoch 3/10\n",
      " - 38s - loss: 7.3035 - acc: 0.5469 - val_loss: 7.2028 - val_acc: 0.5531\n",
      "Epoch 4/10\n",
      " - 37s - loss: 7.1524 - acc: 0.5563 - val_loss: 8.0590 - val_acc: 0.5000\n",
      "Epoch 5/10\n",
      " - 37s - loss: 8.3613 - acc: 0.4813 - val_loss: 7.8576 - val_acc: 0.5125\n",
      "Epoch 6/10\n",
      " - 37s - loss: 7.3035 - acc: 0.5469 - val_loss: 8.2102 - val_acc: 0.4906\n",
      "Epoch 7/10\n",
      " - 36s - loss: 8.5627 - acc: 0.4688 - val_loss: 8.1094 - val_acc: 0.4969\n",
      "Epoch 8/10\n",
      " - 37s - loss: 8.0590 - acc: 0.5000 - val_loss: 7.9079 - val_acc: 0.5094\n",
      "Epoch 9/10\n",
      " - 35s - loss: 7.7568 - acc: 0.5187 - val_loss: 8.5124 - val_acc: 0.4719\n",
      "Epoch 10/10\n",
      " - 36s - loss: 8.3162 - acc: 0.4840 - val_loss: 8.2140 - val_acc: 0.4904\n"
     ]
    },
    {
     "data": {
      "text/plain": [
       "<keras.callbacks.History at 0x7f74e183f3c8>"
      ]
     },
     "execution_count": 61,
     "metadata": {},
     "output_type": "execute_result"
    }
   ],
   "source": [
    "model.compile(optimizer='adam', loss='categorical_crossentropy', metrics=['accuracy'])\n",
    "model.fit_generator(generator=train_iterator, \n",
    "                    validation_data=valid_iterator,\n",
    "                    validation_steps=10,\n",
    "                    epochs=10,\n",
    "                    steps_per_epoch=10,\n",
    "                    verbose=2)"
   ]
  },
  {
   "cell_type": "markdown",
   "metadata": {},
   "source": [
    "# Model unit validation\n",
    "Let's get a model prediction from a given picture"
   ]
  },
  {
   "cell_type": "code",
   "execution_count": 69,
   "metadata": {},
   "outputs": [
    {
     "data": {
      "text/plain": [
       "'rouge gorge'"
      ]
     },
     "execution_count": 69,
     "metadata": {},
     "output_type": "execute_result"
    }
   ],
   "source": [
    "picture_path = '/home/kvjw3322/Documents/Prez/WTB/images/mesange bleu/01-20160116_092159-00.jpg'\n",
    "#picture_path = '/home/kvjw3322/Documents/Prez/WTB/images/rouge gorge/01-20160116_094045-00.jpg'\n",
    "\n",
    "picture = Image.open(picture_path)\n",
    "picture = picture.resize(size=(150,150))\n",
    "picture_array = img_to_array(img=picture)\n",
    "picture_array = np.expand_dims(picture_array, axis=0)\n",
    "get_human_prediction(model, picture_array)"
   ]
  },
  {
   "cell_type": "code",
   "execution_count": null,
   "metadata": {},
   "outputs": [],
   "source": []
  }
 ],
 "metadata": {
  "kernelspec": {
   "display_name": "Python 3",
   "language": "python",
   "name": "python3"
  },
  "language_info": {
   "codemirror_mode": {
    "name": "ipython",
    "version": 3
   },
   "file_extension": ".py",
   "mimetype": "text/x-python",
   "name": "python",
   "nbconvert_exporter": "python",
   "pygments_lexer": "ipython3",
   "version": "3.6.6"
  }
 },
 "nbformat": 4,
 "nbformat_minor": 2
}
